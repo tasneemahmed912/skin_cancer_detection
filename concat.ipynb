{
 "cells": [
  {
   "cell_type": "code",
   "execution_count": 1,
   "metadata": {
    "_cell_guid": "b1076dfc-b9ad-4769-8c92-a6c4dae69d19",
    "_uuid": "8f2839f25d086af736a60e9eeb907d3b93b6e0e5",
    "execution": {
     "iopub.execute_input": "2022-08-27T21:04:47.067795Z",
     "iopub.status.busy": "2022-08-27T21:04:47.067163Z",
     "iopub.status.idle": "2022-08-27T21:04:55.014224Z",
     "shell.execute_reply": "2022-08-27T21:04:55.012697Z",
     "shell.execute_reply.started": "2022-08-27T21:04:47.067654Z"
    }
   },
   "outputs": [],
   "source": [
    "import numpy as np # linear algebra\n",
    "import pandas as pd # data processing, CSV file I/O (e.g. pd.read_csv)\n",
    "from sklearn.model_selection import train_test_split\n",
    "from sklearn.impute import SimpleImputer\n",
    "from sklearn.preprocessing import LabelEncoder\n",
    "import matplotlib.pyplot as plt\n",
    "import pathlib\n",
    "from keras_preprocessing.image import ImageDataGenerator\n",
    "import cv2\n",
    "from tensorflow.keras.preprocessing import image\n",
    "from PIL import Image \n",
    "# tensorflow\n",
    "import tensorflow as tf\n",
    "from tensorflow import keras\n",
    "from tensorflow.keras.layers import Dense, Conv2D, Flatten, Dropout, MaxPooling2D,BatchNormalization\n",
    "from tensorflow.python.keras.models import Sequential, Model\n",
    "from tensorflow.keras import layers\n",
    "from keras.applications.xception import Xception\n",
    "from keras.callbacks import ReduceLROnPlateau, EarlyStopping"
   ]
  },
  {
   "cell_type": "markdown",
   "metadata": {},
   "source": [
    "**get the path of data**"
   ]
  },
  {
   "cell_type": "code",
   "execution_count": 2,
   "metadata": {
    "execution": {
     "iopub.execute_input": "2022-08-27T21:04:55.017028Z",
     "iopub.status.busy": "2022-08-27T21:04:55.016344Z",
     "iopub.status.idle": "2022-08-27T21:04:55.023711Z",
     "shell.execute_reply": "2022-08-27T21:04:55.021847Z",
     "shell.execute_reply.started": "2022-08-27T21:04:55.016990Z"
    }
   },
   "outputs": [],
   "source": [
    "dir = pathlib.Path('../input/isic-2019/ISIC_2019_Training_Input')"
   ]
  },
  {
   "cell_type": "code",
   "execution_count": 3,
   "metadata": {
    "execution": {
     "iopub.execute_input": "2022-08-27T21:04:55.025353Z",
     "iopub.status.busy": "2022-08-27T21:04:55.024940Z",
     "iopub.status.idle": "2022-08-27T21:05:12.359083Z",
     "shell.execute_reply": "2022-08-27T21:05:12.357789Z",
     "shell.execute_reply.started": "2022-08-27T21:04:55.025316Z"
    }
   },
   "outputs": [],
   "source": [
    "FilePath =pd.Series(list(dir.glob(r'**/*.jpg')), name = 'FilePaths').astype(str)\n",
    "#image_data = image_data.rename(columns = {0: 'FilePath'})\n",
    "image_data = pd.DataFrame(FilePath)\n",
    "image_data"
   ]
  },
  {
   "cell_type": "code",
   "execution_count": 4,
   "metadata": {
    "execution": {
     "iopub.execute_input": "2022-08-27T21:05:12.360976Z",
     "iopub.status.busy": "2022-08-27T21:05:12.360520Z",
     "iopub.status.idle": "2022-08-27T21:05:12.366589Z",
     "shell.execute_reply": "2022-08-27T21:05:12.365423Z",
     "shell.execute_reply.started": "2022-08-27T21:05:12.360939Z"
    }
   },
   "outputs": [],
   "source": [
    "del dir"
   ]
  },
  {
   "cell_type": "markdown",
   "metadata": {},
   "source": [
    "**Read target data containing skin cancer type**"
   ]
  },
  {
   "cell_type": "code",
   "execution_count": 5,
   "metadata": {
    "execution": {
     "iopub.execute_input": "2022-08-27T21:05:12.370170Z",
     "iopub.status.busy": "2022-08-27T21:05:12.369733Z",
     "iopub.status.idle": "2022-08-27T21:05:12.450173Z",
     "shell.execute_reply": "2022-08-27T21:05:12.448934Z",
     "shell.execute_reply.started": "2022-08-27T21:05:12.370132Z"
    }
   },
   "outputs": [],
   "source": [
    "data = pd.read_csv('../input/isic-2019/ISIC_2019_Training_GroundTruth.csv')\n",
    "data"
   ]
  },
  {
   "cell_type": "code",
   "execution_count": 6,
   "metadata": {
    "execution": {
     "iopub.execute_input": "2022-08-27T21:05:12.452290Z",
     "iopub.status.busy": "2022-08-27T21:05:12.451915Z",
     "iopub.status.idle": "2022-08-27T21:05:12.465034Z",
     "shell.execute_reply": "2022-08-27T21:05:12.463728Z",
     "shell.execute_reply.started": "2022-08-27T21:05:12.452256Z"
    }
   },
   "outputs": [],
   "source": [
    "data = data.drop(['image'], axis = 1)"
   ]
  },
  {
   "cell_type": "markdown",
   "metadata": {},
   "source": [
    "**create a  cloumn with label to explore the data and target**\n"
   ]
  },
  {
   "cell_type": "code",
   "execution_count": 7,
   "metadata": {
    "execution": {
     "iopub.execute_input": "2022-08-27T21:05:12.467283Z",
     "iopub.status.busy": "2022-08-27T21:05:12.466821Z",
     "iopub.status.idle": "2022-08-27T21:05:18.519686Z",
     "shell.execute_reply": "2022-08-27T21:05:18.518677Z",
     "shell.execute_reply.started": "2022-08-27T21:05:12.467247Z"
    }
   },
   "outputs": [],
   "source": [
    "def get_col_name(row):    \n",
    "    b = (data.loc[row.name] == 1)\n",
    "    c = list(b.index[b])\n",
    "    return c[0]\n",
    "\n",
    "data['label'] = data.apply(get_col_name, axis=1)"
   ]
  },
  {
   "cell_type": "markdown",
   "metadata": {},
   "source": [
    "**concate the data (img+ target)**"
   ]
  },
  {
   "cell_type": "code",
   "execution_count": 8,
   "metadata": {
    "execution": {
     "iopub.execute_input": "2022-08-27T21:05:18.523693Z",
     "iopub.status.busy": "2022-08-27T21:05:18.523121Z",
     "iopub.status.idle": "2022-08-27T21:05:18.558191Z",
     "shell.execute_reply": "2022-08-27T21:05:18.556754Z",
     "shell.execute_reply.started": "2022-08-27T21:05:18.523614Z"
    }
   },
   "outputs": [],
   "source": [
    "df = pd.concat([image_data, data], axis = 1)\n",
    "df"
   ]
  },
  {
   "cell_type": "code",
   "execution_count": 9,
   "metadata": {
    "execution": {
     "iopub.execute_input": "2022-08-27T21:05:18.560588Z",
     "iopub.status.busy": "2022-08-27T21:05:18.559730Z",
     "iopub.status.idle": "2022-08-27T21:05:18.566069Z",
     "shell.execute_reply": "2022-08-27T21:05:18.564733Z",
     "shell.execute_reply.started": "2022-08-27T21:05:18.560551Z"
    }
   },
   "outputs": [],
   "source": [
    "del data"
   ]
  },
  {
   "cell_type": "code",
   "execution_count": 10,
   "metadata": {
    "execution": {
     "iopub.execute_input": "2022-08-27T21:05:18.568746Z",
     "iopub.status.busy": "2022-08-27T21:05:18.567783Z",
     "iopub.status.idle": "2022-08-27T21:05:18.576584Z",
     "shell.execute_reply": "2022-08-27T21:05:18.575481Z",
     "shell.execute_reply.started": "2022-08-27T21:05:18.568700Z"
    }
   },
   "outputs": [],
   "source": [
    "del image_data"
   ]
  },
  {
   "cell_type": "markdown",
   "metadata": {},
   "source": [
    "**numeric data containing the age and gender of patient**"
   ]
  },
  {
   "cell_type": "code",
   "execution_count": 11,
   "metadata": {
    "execution": {
     "iopub.execute_input": "2022-08-27T21:05:18.578795Z",
     "iopub.status.busy": "2022-08-27T21:05:18.578176Z",
     "iopub.status.idle": "2022-08-27T21:05:18.657657Z",
     "shell.execute_reply": "2022-08-27T21:05:18.656307Z",
     "shell.execute_reply.started": "2022-08-27T21:05:18.578760Z"
    }
   },
   "outputs": [],
   "source": [
    "num_data = pd.read_csv('../input/isic-2019/ISIC_2019_Training_Metadata.csv')\n",
    "num_data"
   ]
  },
  {
   "cell_type": "code",
   "execution_count": 12,
   "metadata": {
    "execution": {
     "iopub.execute_input": "2022-08-27T21:05:18.659508Z",
     "iopub.status.busy": "2022-08-27T21:05:18.659149Z",
     "iopub.status.idle": "2022-08-27T21:05:18.676867Z",
     "shell.execute_reply": "2022-08-27T21:05:18.675452Z",
     "shell.execute_reply.started": "2022-08-27T21:05:18.659476Z"
    }
   },
   "outputs": [],
   "source": [
    "num_data1 = num_data.drop(['image', 'anatom_site_general', 'lesion_id'], axis = 1)\n",
    "num_data1"
   ]
  },
  {
   "cell_type": "markdown",
   "metadata": {},
   "source": [
    "impute the missing value with the most frequent "
   ]
  },
  {
   "cell_type": "code",
   "execution_count": 13,
   "metadata": {
    "execution": {
     "iopub.execute_input": "2022-08-27T21:05:18.680425Z",
     "iopub.status.busy": "2022-08-27T21:05:18.679936Z",
     "iopub.status.idle": "2022-08-27T21:05:18.685964Z",
     "shell.execute_reply": "2022-08-27T21:05:18.684412Z",
     "shell.execute_reply.started": "2022-08-27T21:05:18.680377Z"
    }
   },
   "outputs": [],
   "source": [
    "SI = SimpleImputer(strategy='most_frequent')"
   ]
  },
  {
   "cell_type": "code",
   "execution_count": 14,
   "metadata": {
    "execution": {
     "iopub.execute_input": "2022-08-27T21:05:18.693919Z",
     "iopub.status.busy": "2022-08-27T21:05:18.692993Z",
     "iopub.status.idle": "2022-08-27T21:05:18.717514Z",
     "shell.execute_reply": "2022-08-27T21:05:18.716401Z",
     "shell.execute_reply.started": "2022-08-27T21:05:18.693880Z"
    }
   },
   "outputs": [],
   "source": [
    "SI.fit(num_data1)"
   ]
  },
  {
   "cell_type": "code",
   "execution_count": 15,
   "metadata": {
    "execution": {
     "iopub.execute_input": "2022-08-27T21:05:18.719697Z",
     "iopub.status.busy": "2022-08-27T21:05:18.718911Z",
     "iopub.status.idle": "2022-08-27T21:05:18.733869Z",
     "shell.execute_reply": "2022-08-27T21:05:18.732624Z",
     "shell.execute_reply.started": "2022-08-27T21:05:18.719651Z"
    }
   },
   "outputs": [],
   "source": [
    "num_data2 = pd.DataFrame(SI.transform(num_data1))"
   ]
  },
  {
   "cell_type": "code",
   "execution_count": 16,
   "metadata": {
    "execution": {
     "iopub.execute_input": "2022-08-27T21:05:18.736693Z",
     "iopub.status.busy": "2022-08-27T21:05:18.735381Z",
     "iopub.status.idle": "2022-08-27T21:05:18.741921Z",
     "shell.execute_reply": "2022-08-27T21:05:18.740934Z",
     "shell.execute_reply.started": "2022-08-27T21:05:18.736610Z"
    }
   },
   "outputs": [],
   "source": [
    "num_data2.index = num_data1.index"
   ]
  },
  {
   "cell_type": "code",
   "execution_count": 17,
   "metadata": {
    "execution": {
     "iopub.execute_input": "2022-08-27T21:05:18.744713Z",
     "iopub.status.busy": "2022-08-27T21:05:18.743379Z",
     "iopub.status.idle": "2022-08-27T21:05:18.753321Z",
     "shell.execute_reply": "2022-08-27T21:05:18.752169Z",
     "shell.execute_reply.started": "2022-08-27T21:05:18.744629Z"
    }
   },
   "outputs": [],
   "source": [
    "num_data2.columns = num_data1.columns"
   ]
  },
  {
   "cell_type": "code",
   "execution_count": 18,
   "metadata": {
    "execution": {
     "iopub.execute_input": "2022-08-27T21:05:18.755888Z",
     "iopub.status.busy": "2022-08-27T21:05:18.754861Z",
     "iopub.status.idle": "2022-08-27T21:05:18.773629Z",
     "shell.execute_reply": "2022-08-27T21:05:18.772589Z",
     "shell.execute_reply.started": "2022-08-27T21:05:18.755817Z"
    }
   },
   "outputs": [],
   "source": [
    "num_data2.isnull().sum()"
   ]
  },
  {
   "cell_type": "markdown",
   "metadata": {},
   "source": [
    "**encode the sex**"
   ]
  },
  {
   "cell_type": "code",
   "execution_count": 19,
   "metadata": {
    "execution": {
     "iopub.execute_input": "2022-08-27T21:05:18.776404Z",
     "iopub.status.busy": "2022-08-27T21:05:18.775064Z",
     "iopub.status.idle": "2022-08-27T21:05:18.781806Z",
     "shell.execute_reply": "2022-08-27T21:05:18.780568Z",
     "shell.execute_reply.started": "2022-08-27T21:05:18.776359Z"
    }
   },
   "outputs": [],
   "source": [
    "LE = LabelEncoder()"
   ]
  },
  {
   "cell_type": "code",
   "execution_count": 20,
   "metadata": {
    "execution": {
     "iopub.execute_input": "2022-08-27T21:05:18.784183Z",
     "iopub.status.busy": "2022-08-27T21:05:18.783438Z",
     "iopub.status.idle": "2022-08-27T21:05:18.800154Z",
     "shell.execute_reply": "2022-08-27T21:05:18.798708Z",
     "shell.execute_reply.started": "2022-08-27T21:05:18.784137Z"
    }
   },
   "outputs": [],
   "source": [
    "sex = pd.DataFrame(LE.fit_transform(num_data2['sex']))"
   ]
  },
  {
   "cell_type": "code",
   "execution_count": 21,
   "metadata": {
    "execution": {
     "iopub.execute_input": "2022-08-27T21:05:18.802864Z",
     "iopub.status.busy": "2022-08-27T21:05:18.801683Z",
     "iopub.status.idle": "2022-08-27T21:05:18.810327Z",
     "shell.execute_reply": "2022-08-27T21:05:18.809214Z",
     "shell.execute_reply.started": "2022-08-27T21:05:18.802765Z"
    }
   },
   "outputs": [],
   "source": [
    "sex.index = num_data2.index"
   ]
  },
  {
   "cell_type": "code",
   "execution_count": 22,
   "metadata": {
    "execution": {
     "iopub.execute_input": "2022-08-27T21:05:18.812616Z",
     "iopub.status.busy": "2022-08-27T21:05:18.811747Z",
     "iopub.status.idle": "2022-08-27T21:05:18.833151Z",
     "shell.execute_reply": "2022-08-27T21:05:18.831580Z",
     "shell.execute_reply.started": "2022-08-27T21:05:18.812578Z"
    }
   },
   "outputs": [],
   "source": [
    "num_data3 = pd.concat([num_data2, sex], axis = 1)\n",
    "num_data3"
   ]
  },
  {
   "cell_type": "code",
   "execution_count": 23,
   "metadata": {
    "execution": {
     "iopub.execute_input": "2022-08-27T21:05:18.836029Z",
     "iopub.status.busy": "2022-08-27T21:05:18.835416Z",
     "iopub.status.idle": "2022-08-27T21:05:18.842813Z",
     "shell.execute_reply": "2022-08-27T21:05:18.841806Z",
     "shell.execute_reply.started": "2022-08-27T21:05:18.835982Z"
    }
   },
   "outputs": [],
   "source": [
    "num_data4 = num_data3.drop(['sex'], axis = 1)"
   ]
  },
  {
   "cell_type": "code",
   "execution_count": 24,
   "metadata": {
    "execution": {
     "iopub.execute_input": "2022-08-27T21:05:18.844608Z",
     "iopub.status.busy": "2022-08-27T21:05:18.844255Z",
     "iopub.status.idle": "2022-08-27T21:05:18.863433Z",
     "shell.execute_reply": "2022-08-27T21:05:18.861923Z",
     "shell.execute_reply.started": "2022-08-27T21:05:18.844575Z"
    }
   },
   "outputs": [],
   "source": [
    "num_data4= num_data4.rename(columns = {0: 'sex'})\n",
    "num_data4.head()"
   ]
  },
  {
   "cell_type": "code",
   "execution_count": 25,
   "metadata": {
    "execution": {
     "iopub.execute_input": "2022-08-27T21:05:18.865425Z",
     "iopub.status.busy": "2022-08-27T21:05:18.865046Z",
     "iopub.status.idle": "2022-08-27T21:05:18.885234Z",
     "shell.execute_reply": "2022-08-27T21:05:18.884018Z",
     "shell.execute_reply.started": "2022-08-27T21:05:18.865392Z"
    }
   },
   "outputs": [],
   "source": [
    "num_data4 = num_data4.astype(np.float64)\n",
    "num_data4"
   ]
  },
  {
   "cell_type": "code",
   "execution_count": 26,
   "metadata": {
    "execution": {
     "iopub.execute_input": "2022-08-27T21:05:18.887802Z",
     "iopub.status.busy": "2022-08-27T21:05:18.887312Z",
     "iopub.status.idle": "2022-08-27T21:05:18.896833Z",
     "shell.execute_reply": "2022-08-27T21:05:18.895383Z",
     "shell.execute_reply.started": "2022-08-27T21:05:18.887757Z"
    }
   },
   "outputs": [],
   "source": [
    "df2 = pd.concat([df,num_data4], axis = 1)"
   ]
  },
  {
   "cell_type": "markdown",
   "metadata": {},
   "source": [
    "**We want to sample the data and to be fair with the skin cancer types and let them all be in this model, we aggregate them and then we sample**"
   ]
  },
  {
   "cell_type": "code",
   "execution_count": 27,
   "metadata": {
    "execution": {
     "iopub.execute_input": "2022-08-27T21:05:18.899393Z",
     "iopub.status.busy": "2022-08-27T21:05:18.898921Z",
     "iopub.status.idle": "2022-08-27T21:05:18.959558Z",
     "shell.execute_reply": "2022-08-27T21:05:18.958700Z",
     "shell.execute_reply.started": "2022-08-27T21:05:18.899345Z"
    }
   },
   "outputs": [],
   "source": [
    "df2 = df2.groupby('label', group_keys=False).apply(lambda x: x.sample(frac=0.45))\n",
    "df2"
   ]
  },
  {
   "cell_type": "code",
   "execution_count": 28,
   "metadata": {
    "execution": {
     "iopub.execute_input": "2022-08-27T21:05:18.961808Z",
     "iopub.status.busy": "2022-08-27T21:05:18.960724Z",
     "iopub.status.idle": "2022-08-27T21:06:44.035714Z",
     "shell.execute_reply": "2022-08-27T21:06:44.034527Z",
     "shell.execute_reply.started": "2022-08-27T21:05:18.961759Z"
    }
   },
   "outputs": [],
   "source": [
    "images= pd.DataFrame(df2['FilePaths'].map(lambda x:image.load_img(x, target_size=(299, 299))))\n",
    "df2['img'] = images['FilePaths'].map(lambda x:image.img_to_array(x))\n",
    "df2.head(2)"
   ]
  },
  {
   "cell_type": "markdown",
   "metadata": {},
   "source": [
    "**we drop \"unk\" column because there is no patient we don't know his skin cancer type**"
   ]
  },
  {
   "cell_type": "code",
   "execution_count": 29,
   "metadata": {
    "execution": {
     "iopub.execute_input": "2022-08-27T21:06:44.037964Z",
     "iopub.status.busy": "2022-08-27T21:06:44.037558Z",
     "iopub.status.idle": "2022-08-27T21:06:44.047016Z",
     "shell.execute_reply": "2022-08-27T21:06:44.045785Z",
     "shell.execute_reply.started": "2022-08-27T21:06:44.037928Z"
    }
   },
   "outputs": [],
   "source": [
    "df2 = df2.drop(['FilePaths', 'UNK'], axis = 1)"
   ]
  },
  {
   "cell_type": "code",
   "execution_count": 30,
   "metadata": {
    "execution": {
     "iopub.execute_input": "2022-08-27T21:06:44.049020Z",
     "iopub.status.busy": "2022-08-27T21:06:44.048602Z",
     "iopub.status.idle": "2022-08-27T21:06:49.794113Z",
     "shell.execute_reply": "2022-08-27T21:06:49.793230Z",
     "shell.execute_reply.started": "2022-08-27T21:06:44.048985Z"
    }
   },
   "outputs": [],
   "source": [
    "df2.head(2)"
   ]
  },
  {
   "cell_type": "code",
   "execution_count": 31,
   "metadata": {
    "execution": {
     "iopub.execute_input": "2022-08-27T21:06:49.795930Z",
     "iopub.status.busy": "2022-08-27T21:06:49.795414Z",
     "iopub.status.idle": "2022-08-27T21:06:49.799608Z",
     "shell.execute_reply": "2022-08-27T21:06:49.798767Z",
     "shell.execute_reply.started": "2022-08-27T21:06:49.795899Z"
    }
   },
   "outputs": [],
   "source": [
    "del df"
   ]
  },
  {
   "cell_type": "code",
   "execution_count": 32,
   "metadata": {
    "execution": {
     "iopub.execute_input": "2022-08-27T21:06:49.801408Z",
     "iopub.status.busy": "2022-08-27T21:06:49.800867Z",
     "iopub.status.idle": "2022-08-27T21:06:49.817712Z",
     "shell.execute_reply": "2022-08-27T21:06:49.816464Z",
     "shell.execute_reply.started": "2022-08-27T21:06:49.801377Z"
    }
   },
   "outputs": [],
   "source": [
    "(df2['label'].value_counts()) / len(df2) * 100"
   ]
  },
  {
   "cell_type": "markdown",
   "metadata": {},
   "source": [
    "**split the data and add \"stratify\" to help in imbalance problem**"
   ]
  },
  {
   "cell_type": "code",
   "execution_count": 33,
   "metadata": {
    "execution": {
     "iopub.execute_input": "2022-08-27T21:06:49.819766Z",
     "iopub.status.busy": "2022-08-27T21:06:49.819211Z",
     "iopub.status.idle": "2022-08-27T21:06:49.833890Z",
     "shell.execute_reply": "2022-08-27T21:06:49.832675Z",
     "shell.execute_reply.started": "2022-08-27T21:06:49.819724Z"
    }
   },
   "outputs": [],
   "source": [
    "train_DS, val_DS= train_test_split(df2,test_size=0.3, stratify=df2['label'], random_state=1)\n",
    "\n",
    "print('Train Data: ', train_DS.shape)\n",
    "print('Val Data: ', val_DS.shape)"
   ]
  },
  {
   "cell_type": "code",
   "execution_count": 34,
   "metadata": {
    "execution": {
     "iopub.execute_input": "2022-08-27T21:06:49.836343Z",
     "iopub.status.busy": "2022-08-27T21:06:49.835536Z",
     "iopub.status.idle": "2022-08-27T21:06:49.846972Z",
     "shell.execute_reply": "2022-08-27T21:06:49.845885Z",
     "shell.execute_reply.started": "2022-08-27T21:06:49.836285Z"
    }
   },
   "outputs": [],
   "source": [
    "val_DS, test_DS= train_test_split(val_DS, test_size=0.3, stratify=val_DS['label'], random_state=1)\n",
    "print('Val Data: ', val_DS.shape)\n",
    "print('test Data: ', test_DS.shape)"
   ]
  },
  {
   "cell_type": "markdown",
   "metadata": {},
   "source": [
    "**to fix the imbalance  problem depend on label column**"
   ]
  },
  {
   "cell_type": "code",
   "execution_count": 35,
   "metadata": {
    "execution": {
     "iopub.execute_input": "2022-08-27T21:06:49.848925Z",
     "iopub.status.busy": "2022-08-27T21:06:49.848271Z",
     "iopub.status.idle": "2022-08-27T21:06:49.858948Z",
     "shell.execute_reply": "2022-08-27T21:06:49.857848Z",
     "shell.execute_reply.started": "2022-08-27T21:06:49.848879Z"
    }
   },
   "outputs": [],
   "source": [
    "from sklearn.utils import class_weight\n",
    "\n",
    "\n",
    "class_weights = class_weight.compute_class_weight('balanced',\n",
    "                                                 classes = train_DS.label.unique().tolist(),\n",
    "                                                 y = train_DS.label.tolist())\n",
    "class_weights"
   ]
  },
  {
   "cell_type": "code",
   "execution_count": 36,
   "metadata": {
    "execution": {
     "iopub.execute_input": "2022-08-27T21:06:49.861028Z",
     "iopub.status.busy": "2022-08-27T21:06:49.860409Z",
     "iopub.status.idle": "2022-08-27T21:06:49.866607Z",
     "shell.execute_reply": "2022-08-27T21:06:49.865416Z",
     "shell.execute_reply.started": "2022-08-27T21:06:49.860989Z"
    }
   },
   "outputs": [],
   "source": [
    "Class_Weight = { 0 : 3.66322314,\n",
    "1 : 0.95322581,                \n",
    "2 : 1.20776567,\n",
    "3 : 13.03676471,\n",
    "4 : 0.70023697,\n",
    "5 : 0.24597669,\n",
    "6 : 5.03693182,\n",
    "7 : 12.3125}"
   ]
  },
  {
   "cell_type": "code",
   "execution_count": 37,
   "metadata": {
    "execution": {
     "iopub.execute_input": "2022-08-27T21:06:49.869260Z",
     "iopub.status.busy": "2022-08-27T21:06:49.868222Z",
     "iopub.status.idle": "2022-08-27T21:06:49.879259Z",
     "shell.execute_reply": "2022-08-27T21:06:49.878290Z",
     "shell.execute_reply.started": "2022-08-27T21:06:49.869224Z"
    }
   },
   "outputs": [],
   "source": [
    "train_DS.label.unique()"
   ]
  },
  {
   "cell_type": "code",
   "execution_count": 38,
   "metadata": {
    "execution": {
     "iopub.execute_input": "2022-08-27T21:06:49.882239Z",
     "iopub.status.busy": "2022-08-27T21:06:49.880912Z",
     "iopub.status.idle": "2022-08-27T21:06:49.890998Z",
     "shell.execute_reply": "2022-08-27T21:06:49.889948Z",
     "shell.execute_reply.started": "2022-08-27T21:06:49.882195Z"
    }
   },
   "outputs": [],
   "source": [
    "val_DS.label.unique()"
   ]
  },
  {
   "cell_type": "code",
   "execution_count": 39,
   "metadata": {
    "execution": {
     "iopub.execute_input": "2022-08-27T21:06:49.892967Z",
     "iopub.status.busy": "2022-08-27T21:06:49.892345Z",
     "iopub.status.idle": "2022-08-27T21:06:49.900948Z",
     "shell.execute_reply": "2022-08-27T21:06:49.899726Z",
     "shell.execute_reply.started": "2022-08-27T21:06:49.892934Z"
    }
   },
   "outputs": [],
   "source": [
    "test_DS.label.unique()"
   ]
  },
  {
   "cell_type": "code",
   "execution_count": 40,
   "metadata": {
    "execution": {
     "iopub.execute_input": "2022-08-27T21:06:49.903173Z",
     "iopub.status.busy": "2022-08-27T21:06:49.902840Z",
     "iopub.status.idle": "2022-08-27T21:06:49.911712Z",
     "shell.execute_reply": "2022-08-27T21:06:49.910567Z",
     "shell.execute_reply.started": "2022-08-27T21:06:49.903144Z"
    }
   },
   "outputs": [],
   "source": [
    "train_DS = train_DS.drop(['label'], axis = 1)\n",
    "val_DS = val_DS.drop(['label'], axis = 1)\n",
    "test_DS = test_DS.drop(['label'], axis = 1)"
   ]
  },
  {
   "cell_type": "code",
   "execution_count": 41,
   "metadata": {
    "execution": {
     "iopub.execute_input": "2022-08-27T21:06:49.919455Z",
     "iopub.status.busy": "2022-08-27T21:06:49.918871Z",
     "iopub.status.idle": "2022-08-27T21:06:49.930415Z",
     "shell.execute_reply": "2022-08-27T21:06:49.929069Z",
     "shell.execute_reply.started": "2022-08-27T21:06:49.919420Z"
    }
   },
   "outputs": [],
   "source": [
    "X_train = train_DS[['img','age_approx','sex']]\n",
    "y_train = train_DS.drop(['img','age_approx','sex'], axis = 1)\n",
    "X_val = val_DS[['img','age_approx','sex']]\n",
    "y_val = val_DS.drop(['img','age_approx','sex'], axis = 1)\n",
    "X_test = test_DS[['img','age_approx','sex']]\n",
    "y_test = test_DS.drop(['img','age_approx','sex'], axis = 1)"
   ]
  },
  {
   "cell_type": "code",
   "execution_count": 42,
   "metadata": {
    "execution": {
     "iopub.execute_input": "2022-08-27T21:06:49.933162Z",
     "iopub.status.busy": "2022-08-27T21:06:49.932255Z",
     "iopub.status.idle": "2022-08-27T21:06:49.959019Z",
     "shell.execute_reply": "2022-08-27T21:06:49.958063Z",
     "shell.execute_reply.started": "2022-08-27T21:06:49.933109Z"
    }
   },
   "outputs": [],
   "source": [
    "y_train"
   ]
  },
  {
   "cell_type": "code",
   "execution_count": 43,
   "metadata": {
    "execution": {
     "iopub.execute_input": "2022-08-27T21:06:49.960921Z",
     "iopub.status.busy": "2022-08-27T21:06:49.960172Z",
     "iopub.status.idle": "2022-08-27T21:06:49.966488Z",
     "shell.execute_reply": "2022-08-27T21:06:49.965218Z",
     "shell.execute_reply.started": "2022-08-27T21:06:49.960887Z"
    }
   },
   "outputs": [],
   "source": [
    "del df2\n",
    "del train_DS\n",
    "del val_DS\n",
    "del test_DS"
   ]
  },
  {
   "cell_type": "code",
   "execution_count": 44,
   "metadata": {
    "execution": {
     "iopub.execute_input": "2022-08-27T21:06:49.968778Z",
     "iopub.status.busy": "2022-08-27T21:06:49.967977Z",
     "iopub.status.idle": "2022-08-27T21:06:51.194758Z",
     "shell.execute_reply": "2022-08-27T21:06:51.193099Z",
     "shell.execute_reply.started": "2022-08-27T21:06:49.968730Z"
    }
   },
   "outputs": [],
   "source": [
    "X_train_img = np.asarray(X_train['img'].tolist())\n",
    "X_val_img = np.asarray(X_val['img'].tolist())\n",
    "X_test_img = np.asarray(X_test['img'].tolist())"
   ]
  },
  {
   "cell_type": "code",
   "execution_count": 45,
   "metadata": {
    "execution": {
     "iopub.execute_input": "2022-08-27T21:06:51.196593Z",
     "iopub.status.busy": "2022-08-27T21:06:51.196209Z",
     "iopub.status.idle": "2022-08-27T21:06:51.203563Z",
     "shell.execute_reply": "2022-08-27T21:06:51.202500Z",
     "shell.execute_reply.started": "2022-08-27T21:06:51.196557Z"
    }
   },
   "outputs": [],
   "source": [
    "X_train_age = np.asarray(X_train['age_approx'].tolist())\n",
    "X_val_age = np.asarray(X_val['age_approx'].tolist())\n",
    "X_test_age = np.asarray(X_test['age_approx'].tolist())"
   ]
  },
  {
   "cell_type": "code",
   "execution_count": 46,
   "metadata": {
    "execution": {
     "iopub.execute_input": "2022-08-27T21:06:51.205945Z",
     "iopub.status.busy": "2022-08-27T21:06:51.205532Z",
     "iopub.status.idle": "2022-08-27T21:06:51.214562Z",
     "shell.execute_reply": "2022-08-27T21:06:51.213473Z",
     "shell.execute_reply.started": "2022-08-27T21:06:51.205909Z"
    }
   },
   "outputs": [],
   "source": [
    "X_train_sex = np.asarray(X_train['sex'].tolist())\n",
    "X_val_sex = np.asarray(X_val['sex'].tolist())\n",
    "X_test_sex = np.asarray(X_test['sex'].tolist())"
   ]
  },
  {
   "cell_type": "markdown",
   "metadata": {},
   "source": [
    "**adjust the parameters**"
   ]
  },
  {
   "cell_type": "code",
   "execution_count": 47,
   "metadata": {
    "execution": {
     "iopub.execute_input": "2022-08-27T21:06:51.217157Z",
     "iopub.status.busy": "2022-08-27T21:06:51.216186Z",
     "iopub.status.idle": "2022-08-27T21:06:51.224781Z",
     "shell.execute_reply": "2022-08-27T21:06:51.223892Z",
     "shell.execute_reply.started": "2022-08-27T21:06:51.217119Z"
    }
   },
   "outputs": [],
   "source": [
    "#from tensorflow.keras.optimizers import Adam \n",
    "#optimizer = Adam(lr=0.001, beta_1=0.9, beta_2=0.999, epsilon=None, decay=0.0, amsgrad=False)\n",
    "\n",
    "learning_rate_reduction = ReduceLROnPlateau(monitor='val_acc', patience=5, verbose=1, factor=0.5, min_lr=0.00001)\n",
    "early_stopping_monitor = EarlyStopping(patience=20, monitor='val_accuracy', restore_best_weights=True)\n",
    "\n",
    "datagen = ImageDataGenerator(\n",
    "        featurewise_center=False,\n",
    "        samplewise_center=False,\n",
    "        featurewise_std_normalization=False,\n",
    "        samplewise_std_normalization=False,\n",
    "        zca_whitening=False,\n",
    "        rotation_range=90,\n",
    "        zoom_range = 0.1,\n",
    "        width_shift_range=0.1,\n",
    "        height_shift_range=0.1,\n",
    "        horizontal_flip=True,\n",
    "        vertical_flip=True,\n",
    "        shear_range = 10)"
   ]
  },
  {
   "cell_type": "markdown",
   "metadata": {},
   "source": [
    "**here we use a built in model \"Xceptional\" which inspire from google image processing model**"
   ]
  },
  {
   "cell_type": "code",
   "execution_count": 48,
   "metadata": {
    "execution": {
     "iopub.execute_input": "2022-08-27T21:06:51.227403Z",
     "iopub.status.busy": "2022-08-27T21:06:51.226843Z",
     "iopub.status.idle": "2022-08-27T21:06:51.236504Z",
     "shell.execute_reply": "2022-08-27T21:06:51.235288Z",
     "shell.execute_reply.started": "2022-08-27T21:06:51.227343Z"
    }
   },
   "outputs": [],
   "source": [
    "Xception_weights_path = '../input/xception/xception_weights_tf_dim_ordering_tf_kernels.h5'"
   ]
  },
  {
   "cell_type": "code",
   "execution_count": 53,
   "metadata": {
    "execution": {
     "iopub.execute_input": "2022-08-27T21:11:04.107181Z",
     "iopub.status.busy": "2022-08-27T21:11:04.106653Z",
     "iopub.status.idle": "2022-08-27T21:11:07.315382Z",
     "shell.execute_reply": "2022-08-27T21:11:07.313795Z",
     "shell.execute_reply.started": "2022-08-27T21:11:04.107132Z"
    }
   },
   "outputs": [],
   "source": [
    "from keras.layers import Input\n",
    "\n",
    "input_tens = Input(shape=(299,299,3))\n",
    "# for sex and age \n",
    "sex = tf.keras.Input(1, dtype = tf.float32)\n",
    "age = tf.keras.Input(1, dtype = tf.float32)\n",
    "\n",
    "basemodel = Xception(\n",
    "    include_top=True,\n",
    "    weights=Xception_weights_path,\n",
    "    input_tensor=input_tens,\n",
    "    input_shape=(299,299,3)\n",
    ")\n",
    "Concatmodel = basemodel.output\n",
    "#take the flatten\n",
    "flat_features = Flatten()(Concatmodel)\n",
    "#concate the model of sex , age and  model flatten \n",
    "flat_features = tf.concat([flat_features, sex, age], -1)\n",
    "\n",
    "Concatmodel = BatchNormalization()(flat_features)\n",
    "Concatmodel = Dense(128, activation='relu')(Concatmodel)\n",
    "Concatmodel = Dropout(0.2)(Concatmodel)\n",
    "\n",
    "Concatmodel = BatchNormalization()(Concatmodel)\n",
    "ConcatOutput = Dense(8, activation = 'softmax')(Concatmodel)\n",
    "\n",
    "Concatmodel = Model(inputs = [[input_tens, sex, age]], outputs=ConcatOutput)\n",
    "\n",
    "model1 = Concatmodel\n",
    "model1.summary()"
   ]
  },
  {
   "cell_type": "code",
   "execution_count": 54,
   "metadata": {
    "execution": {
     "iopub.execute_input": "2022-08-27T21:11:08.303166Z",
     "iopub.status.busy": "2022-08-27T21:11:08.301910Z",
     "iopub.status.idle": "2022-08-27T21:11:08.320813Z",
     "shell.execute_reply": "2022-08-27T21:11:08.319135Z",
     "shell.execute_reply.started": "2022-08-27T21:11:08.303111Z"
    }
   },
   "outputs": [],
   "source": [
    "model1.compile(optimizer = 'adam' , loss = \"categorical_crossentropy\", metrics=[\"accuracy\"])"
   ]
  },
  {
   "cell_type": "code",
   "execution_count": null,
   "metadata": {
    "execution": {
     "iopub.execute_input": "2022-08-27T21:11:08.439549Z",
     "iopub.status.busy": "2022-08-27T21:11:08.438132Z"
    }
   },
   "outputs": [],
   "source": [
    "batch_size = 32\n",
    "history = model1.fit([X_train_img, X_train_sex, X_train_age], y_train,\n",
    "                    epochs = 20, \n",
    "                    validation_data = ([X_val_img, X_val_sex, X_val_age],y_val),\n",
    "                    verbose = 1, steps_per_epoch=X_train.shape[0] // batch_size, \n",
    "                      callbacks=[learning_rate_reduction,early_stopping_monitor], class_weight= Class_Weight)"
   ]
  },
  {
   "cell_type": "code",
   "execution_count": null,
   "metadata": {},
   "outputs": [],
   "source": []
  }
 ],
 "metadata": {
  "kernelspec": {
   "display_name": "Python 3",
   "language": "python",
   "name": "python3"
  },
  "language_info": {
   "codemirror_mode": {
    "name": "ipython",
    "version": 3
   },
   "file_extension": ".py",
   "mimetype": "text/x-python",
   "name": "python",
   "nbconvert_exporter": "python",
   "pygments_lexer": "ipython3",
   "version": "3.8.5"
  }
 },
 "nbformat": 4,
 "nbformat_minor": 4
}
